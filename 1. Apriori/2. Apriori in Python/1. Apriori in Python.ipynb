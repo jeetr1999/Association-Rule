{
 "cells": [
  {
   "cell_type": "markdown",
   "id": "3e48193f",
   "metadata": {},
   "source": [
    "## Importing The Libraries"
   ]
  },
  {
   "cell_type": "code",
   "execution_count": null,
   "id": "3d945ce4",
   "metadata": {},
   "outputs": [],
   "source": [
    "!pip install apyori"
   ]
  },
  {
   "cell_type": "code",
   "execution_count": 1,
   "id": "aacd56d1",
   "metadata": {},
   "outputs": [],
   "source": [
    "import numpy as np\n",
    "import pandas as pd\n",
    "import matplotlib.pyplot as plt"
   ]
  },
  {
   "cell_type": "markdown",
   "id": "7ba71e44",
   "metadata": {},
   "source": [
    "## Importing The Dataset and Preprocessing"
   ]
  },
  {
   "cell_type": "markdown",
   "id": "251e190d",
   "metadata": {},
   "source": [
    "When we compare the dataset for Apriori with the previous data sets we use, we can see that the structure of the\n",
    "dataset is a different. In this particular dataset, we don't names of columns. Each of the elements correspond to just different products. \n",
    "Thus, we need to add something in the read function to tell the function that the first row is not column names, but the data to be used to analysis.\n",
    "\n",
    "The apyori function requires the dataset to be in a particular format (not pandas data frame but a list of transaction - Transactions listed one by one with the different products by the customers.\n",
    "\n",
    "Finally, all the elements in the apyori model must be strings."
   ]
  },
  {
   "cell_type": "code",
   "execution_count": 2,
   "id": "407d2050",
   "metadata": {},
   "outputs": [],
   "source": [
    "dataset = pd.read_csv(\"Market_Basket_Optimisation.csv\", header = None)\n",
    "transactions = []    \n",
    "for i in range(len(dataset)):\n",
    "    transactions.append([str(dataset.values[i,j]) for j in range(0,20)])"
   ]
  },
  {
   "cell_type": "markdown",
   "id": "16eb1308",
   "metadata": {},
   "source": [
    "## Training The Apriori Model on The Dataset"
   ]
  },
  {
   "cell_type": "code",
   "execution_count": 9,
   "id": "902ecdaf",
   "metadata": {},
   "outputs": [],
   "source": [
    "from apyori import apriori\n",
    "rules = apriori(transactions = transactions, \n",
    "              min_support = 0.003,\n",
    "              min_confidence = 0.2, \n",
    "              min_lift = 3,\n",
    "              min_length = 2,\n",
    "              max_lenght = 2)"
   ]
  },
  {
   "cell_type": "markdown",
   "id": "c37945ae",
   "metadata": {},
   "source": [
    "## Visualizing The Results"
   ]
  },
  {
   "cell_type": "markdown",
   "id": "f1d96ede",
   "metadata": {},
   "source": [
    "### Displaying the first results coming directly from the output of the apriori function"
   ]
  },
  {
   "cell_type": "code",
   "execution_count": 10,
   "id": "4bce9549",
   "metadata": {},
   "outputs": [],
   "source": [
    "results = list(rules)"
   ]
  },
  {
   "cell_type": "markdown",
   "id": "40acdf13",
   "metadata": {},
   "source": [
    "### Putting the results into a well organized Pandas Dataframe"
   ]
  },
  {
   "cell_type": "code",
   "execution_count": 11,
   "id": "c4a3b3f6",
   "metadata": {},
   "outputs": [],
   "source": [
    "def inspect(results):\n",
    "    lhs         = [tuple(result[2][0][0])[0] for result in results]\n",
    "    rhs         = [tuple(result[2][0][1])[0] for result in results]\n",
    "    supports    = [result[1] for result in results]\n",
    "    confidences = [result[2][0][2] for result in results]\n",
    "    lifts       = [result[2][0][3] for result in results]\n",
    "    return list(zip(lhs, rhs, supports, confidences, lifts))\n",
    "resultsinDataFrame = pd.DataFrame(inspect(results), columns = ['Left Hand Side', 'Right Hand Side', 'Support', 'Confidence', 'Lift'])"
   ]
  },
  {
   "cell_type": "markdown",
   "id": "887a963c",
   "metadata": {},
   "source": [
    "### Displaying The Results Non-Sorted"
   ]
  },
  {
   "cell_type": "code",
   "execution_count": 12,
   "id": "e6a734e1",
   "metadata": {},
   "outputs": [
    {
     "data": {
      "text/html": [
       "<div>\n",
       "<style scoped>\n",
       "    .dataframe tbody tr th:only-of-type {\n",
       "        vertical-align: middle;\n",
       "    }\n",
       "\n",
       "    .dataframe tbody tr th {\n",
       "        vertical-align: top;\n",
       "    }\n",
       "\n",
       "    .dataframe thead th {\n",
       "        text-align: right;\n",
       "    }\n",
       "</style>\n",
       "<table border=\"1\" class=\"dataframe\">\n",
       "  <thead>\n",
       "    <tr style=\"text-align: right;\">\n",
       "      <th></th>\n",
       "      <th>Left Hand Side</th>\n",
       "      <th>Right Hand Side</th>\n",
       "      <th>Support</th>\n",
       "      <th>Confidence</th>\n",
       "      <th>Lift</th>\n",
       "    </tr>\n",
       "  </thead>\n",
       "  <tbody>\n",
       "    <tr>\n",
       "      <th>0</th>\n",
       "      <td>light cream</td>\n",
       "      <td>chicken</td>\n",
       "      <td>0.004533</td>\n",
       "      <td>0.290598</td>\n",
       "      <td>4.843951</td>\n",
       "    </tr>\n",
       "    <tr>\n",
       "      <th>1</th>\n",
       "      <td>mushroom cream sauce</td>\n",
       "      <td>escalope</td>\n",
       "      <td>0.005733</td>\n",
       "      <td>0.300699</td>\n",
       "      <td>3.790833</td>\n",
       "    </tr>\n",
       "    <tr>\n",
       "      <th>2</th>\n",
       "      <td>pasta</td>\n",
       "      <td>escalope</td>\n",
       "      <td>0.005866</td>\n",
       "      <td>0.372881</td>\n",
       "      <td>4.700812</td>\n",
       "    </tr>\n",
       "    <tr>\n",
       "      <th>3</th>\n",
       "      <td>fromage blanc</td>\n",
       "      <td>honey</td>\n",
       "      <td>0.003333</td>\n",
       "      <td>0.245098</td>\n",
       "      <td>5.164271</td>\n",
       "    </tr>\n",
       "    <tr>\n",
       "      <th>4</th>\n",
       "      <td>herb &amp; pepper</td>\n",
       "      <td>ground beef</td>\n",
       "      <td>0.015998</td>\n",
       "      <td>0.323450</td>\n",
       "      <td>3.291994</td>\n",
       "    </tr>\n",
       "    <tr>\n",
       "      <th>...</th>\n",
       "      <td>...</td>\n",
       "      <td>...</td>\n",
       "      <td>...</td>\n",
       "      <td>...</td>\n",
       "      <td>...</td>\n",
       "    </tr>\n",
       "    <tr>\n",
       "      <th>155</th>\n",
       "      <td>olive oil</td>\n",
       "      <td>spaghetti</td>\n",
       "      <td>0.003066</td>\n",
       "      <td>0.216981</td>\n",
       "      <td>3.632981</td>\n",
       "    </tr>\n",
       "    <tr>\n",
       "      <th>156</th>\n",
       "      <td>pancakes</td>\n",
       "      <td>spaghetti</td>\n",
       "      <td>0.003066</td>\n",
       "      <td>0.211009</td>\n",
       "      <td>3.532991</td>\n",
       "    </tr>\n",
       "    <tr>\n",
       "      <th>157</th>\n",
       "      <td>tomatoes</td>\n",
       "      <td>spaghetti</td>\n",
       "      <td>0.003066</td>\n",
       "      <td>0.261364</td>\n",
       "      <td>4.376091</td>\n",
       "    </tr>\n",
       "    <tr>\n",
       "      <th>158</th>\n",
       "      <td>spaghetti</td>\n",
       "      <td>olive oil</td>\n",
       "      <td>0.003333</td>\n",
       "      <td>0.211864</td>\n",
       "      <td>3.223519</td>\n",
       "    </tr>\n",
       "    <tr>\n",
       "      <th>159</th>\n",
       "      <td>tomatoes</td>\n",
       "      <td>spaghetti</td>\n",
       "      <td>0.003333</td>\n",
       "      <td>0.238095</td>\n",
       "      <td>3.986501</td>\n",
       "    </tr>\n",
       "  </tbody>\n",
       "</table>\n",
       "<p>160 rows × 5 columns</p>\n",
       "</div>"
      ],
      "text/plain": [
       "           Left Hand Side Right Hand Side   Support  Confidence      Lift\n",
       "0             light cream         chicken  0.004533    0.290598  4.843951\n",
       "1    mushroom cream sauce        escalope  0.005733    0.300699  3.790833\n",
       "2                   pasta        escalope  0.005866    0.372881  4.700812\n",
       "3           fromage blanc           honey  0.003333    0.245098  5.164271\n",
       "4           herb & pepper     ground beef  0.015998    0.323450  3.291994\n",
       "..                    ...             ...       ...         ...       ...\n",
       "155             olive oil       spaghetti  0.003066    0.216981  3.632981\n",
       "156              pancakes       spaghetti  0.003066    0.211009  3.532991\n",
       "157              tomatoes       spaghetti  0.003066    0.261364  4.376091\n",
       "158             spaghetti       olive oil  0.003333    0.211864  3.223519\n",
       "159              tomatoes       spaghetti  0.003333    0.238095  3.986501\n",
       "\n",
       "[160 rows x 5 columns]"
      ]
     },
     "execution_count": 12,
     "metadata": {},
     "output_type": "execute_result"
    }
   ],
   "source": [
    "resultsinDataFrame"
   ]
  },
  {
   "cell_type": "markdown",
   "id": "9f1c09ea",
   "metadata": {},
   "source": [
    "### Displaying the result in descending order of lift"
   ]
  },
  {
   "cell_type": "code",
   "execution_count": 13,
   "id": "5484dfef",
   "metadata": {},
   "outputs": [
    {
     "data": {
      "text/html": [
       "<div>\n",
       "<style scoped>\n",
       "    .dataframe tbody tr th:only-of-type {\n",
       "        vertical-align: middle;\n",
       "    }\n",
       "\n",
       "    .dataframe tbody tr th {\n",
       "        vertical-align: top;\n",
       "    }\n",
       "\n",
       "    .dataframe thead th {\n",
       "        text-align: right;\n",
       "    }\n",
       "</style>\n",
       "<table border=\"1\" class=\"dataframe\">\n",
       "  <thead>\n",
       "    <tr style=\"text-align: right;\">\n",
       "      <th></th>\n",
       "      <th>Left Hand Side</th>\n",
       "      <th>Right Hand Side</th>\n",
       "      <th>Support</th>\n",
       "      <th>Confidence</th>\n",
       "      <th>Lift</th>\n",
       "    </tr>\n",
       "  </thead>\n",
       "  <tbody>\n",
       "    <tr>\n",
       "      <th>97</th>\n",
       "      <td>frozen vegetables</td>\n",
       "      <td>milk</td>\n",
       "      <td>0.003066</td>\n",
       "      <td>0.383333</td>\n",
       "      <td>7.987176</td>\n",
       "    </tr>\n",
       "    <tr>\n",
       "      <th>150</th>\n",
       "      <td>frozen vegetables</td>\n",
       "      <td>milk</td>\n",
       "      <td>0.003066</td>\n",
       "      <td>0.383333</td>\n",
       "      <td>7.987176</td>\n",
       "    </tr>\n",
       "    <tr>\n",
       "      <th>96</th>\n",
       "      <td>frozen vegetables</td>\n",
       "      <td>milk</td>\n",
       "      <td>0.003333</td>\n",
       "      <td>0.294118</td>\n",
       "      <td>6.128268</td>\n",
       "    </tr>\n",
       "    <tr>\n",
       "      <th>149</th>\n",
       "      <td>frozen vegetables</td>\n",
       "      <td>milk</td>\n",
       "      <td>0.003333</td>\n",
       "      <td>0.294118</td>\n",
       "      <td>6.128268</td>\n",
       "    </tr>\n",
       "    <tr>\n",
       "      <th>132</th>\n",
       "      <td>whole wheat pasta</td>\n",
       "      <td>olive oil</td>\n",
       "      <td>0.003866</td>\n",
       "      <td>0.402778</td>\n",
       "      <td>6.128268</td>\n",
       "    </tr>\n",
       "    <tr>\n",
       "      <th>59</th>\n",
       "      <td>whole wheat pasta</td>\n",
       "      <td>olive oil</td>\n",
       "      <td>0.003866</td>\n",
       "      <td>0.402778</td>\n",
       "      <td>6.115863</td>\n",
       "    </tr>\n",
       "    <tr>\n",
       "      <th>50</th>\n",
       "      <td>tomato sauce</td>\n",
       "      <td>spaghetti</td>\n",
       "      <td>0.003066</td>\n",
       "      <td>0.216981</td>\n",
       "      <td>5.535971</td>\n",
       "    </tr>\n",
       "    <tr>\n",
       "      <th>122</th>\n",
       "      <td>tomato sauce</td>\n",
       "      <td>spaghetti</td>\n",
       "      <td>0.003066</td>\n",
       "      <td>0.216981</td>\n",
       "      <td>5.535971</td>\n",
       "    </tr>\n",
       "    <tr>\n",
       "      <th>28</th>\n",
       "      <td>fromage blanc</td>\n",
       "      <td>honey</td>\n",
       "      <td>0.003333</td>\n",
       "      <td>0.245098</td>\n",
       "      <td>5.178818</td>\n",
       "    </tr>\n",
       "    <tr>\n",
       "      <th>3</th>\n",
       "      <td>fromage blanc</td>\n",
       "      <td>honey</td>\n",
       "      <td>0.003333</td>\n",
       "      <td>0.245098</td>\n",
       "      <td>5.164271</td>\n",
       "    </tr>\n",
       "  </tbody>\n",
       "</table>\n",
       "</div>"
      ],
      "text/plain": [
       "        Left Hand Side Right Hand Side   Support  Confidence      Lift\n",
       "97   frozen vegetables            milk  0.003066    0.383333  7.987176\n",
       "150  frozen vegetables            milk  0.003066    0.383333  7.987176\n",
       "96   frozen vegetables            milk  0.003333    0.294118  6.128268\n",
       "149  frozen vegetables            milk  0.003333    0.294118  6.128268\n",
       "132  whole wheat pasta       olive oil  0.003866    0.402778  6.128268\n",
       "59   whole wheat pasta       olive oil  0.003866    0.402778  6.115863\n",
       "50        tomato sauce       spaghetti  0.003066    0.216981  5.535971\n",
       "122       tomato sauce       spaghetti  0.003066    0.216981  5.535971\n",
       "28       fromage blanc           honey  0.003333    0.245098  5.178818\n",
       "3        fromage blanc           honey  0.003333    0.245098  5.164271"
      ]
     },
     "execution_count": 13,
     "metadata": {},
     "output_type": "execute_result"
    }
   ],
   "source": [
    "resultsinDataFrame.nlargest(n = 10, columns = 'Lift')"
   ]
  }
 ],
 "metadata": {
  "kernelspec": {
   "display_name": "Python 3",
   "language": "python",
   "name": "python3"
  },
  "language_info": {
   "codemirror_mode": {
    "name": "ipython",
    "version": 3
   },
   "file_extension": ".py",
   "mimetype": "text/x-python",
   "name": "python",
   "nbconvert_exporter": "python",
   "pygments_lexer": "ipython3",
   "version": "3.8.8"
  }
 },
 "nbformat": 4,
 "nbformat_minor": 5
}
