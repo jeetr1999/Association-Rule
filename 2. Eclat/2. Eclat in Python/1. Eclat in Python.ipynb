{
 "cells": [
  {
   "cell_type": "markdown",
   "id": "d356e0ab",
   "metadata": {},
   "source": [
    "## Importing The Libraries"
   ]
  },
  {
   "cell_type": "code",
   "execution_count": null,
   "id": "cbdeb363",
   "metadata": {},
   "outputs": [],
   "source": [
    "!pip install apyori"
   ]
  },
  {
   "cell_type": "code",
   "execution_count": 1,
   "id": "75908ad6",
   "metadata": {},
   "outputs": [],
   "source": [
    "import numpy as np\n",
    "import pandas as pd\n",
    "import matplotlib.pyplot as plt"
   ]
  },
  {
   "cell_type": "markdown",
   "id": "fc22750d",
   "metadata": {},
   "source": [
    "## Importing The Dataset and Preprocessing"
   ]
  },
  {
   "cell_type": "markdown",
   "id": "c54abeb8",
   "metadata": {},
   "source": [
    "When we compare the dataset for Apriori with the previous data sets we use, we can see that the structure of the\n",
    "dataset is a different. In this particular dataset, we don't names of columns. Each of the elements correspond to just different products. \n",
    "Thus, we need to add something in the read function to tell the function that the first row is not column names, but the data to be used to analysis.\n",
    "\n",
    "The apyori function requires the dataset to be in a particular format (not pandas data frame but a list of transaction - Transactions listed one by one with the different products by the customers.\n",
    "\n",
    "Finally, all the elements in the apyori model must be strings."
   ]
  },
  {
   "cell_type": "code",
   "execution_count": 2,
   "id": "2d21d16e",
   "metadata": {},
   "outputs": [],
   "source": [
    "dataset = pd.read_csv(\"Market_Basket_Optimisation.csv\", header = None)\n",
    "transactions = []    \n",
    "for i in range(len(dataset)):\n",
    "    transactions.append([str(dataset.values[i,j]) for j in range(0,20)])"
   ]
  },
  {
   "cell_type": "markdown",
   "id": "c0c44a7b",
   "metadata": {},
   "source": [
    "## Training The Apriori Model on The Dataset"
   ]
  },
  {
   "cell_type": "code",
   "execution_count": 7,
   "id": "d7eb9e89",
   "metadata": {},
   "outputs": [],
   "source": [
    "from apyori import apriori\n",
    "rules = apriori(transactions = transactions, \n",
    "              min_support = 0.003,\n",
    "              min_confidence = 0.2, \n",
    "              min_lift = 3,\n",
    "              min_length = 2,\n",
    "              max_lenght = 2)"
   ]
  },
  {
   "cell_type": "markdown",
   "id": "c65bc90d",
   "metadata": {},
   "source": [
    "## Visualizing The Results"
   ]
  },
  {
   "cell_type": "markdown",
   "id": "3fb89fcc",
   "metadata": {},
   "source": [
    "### Displaying the first results coming directly from the output of the apriori function"
   ]
  },
  {
   "cell_type": "code",
   "execution_count": 8,
   "id": "555ec478",
   "metadata": {},
   "outputs": [],
   "source": [
    "results = list(rules)"
   ]
  },
  {
   "cell_type": "markdown",
   "id": "daac9442",
   "metadata": {},
   "source": [
    "### Putting the results into a well organized Pandas Dataframe"
   ]
  },
  {
   "cell_type": "code",
   "execution_count": 13,
   "id": "b9251b72",
   "metadata": {},
   "outputs": [],
   "source": [
    "def inspect(results):\n",
    "    lhs         = [tuple(result[2][0][0])[0] for result in results]\n",
    "    rhs         = [tuple(result[2][0][1])[0] for result in results]\n",
    "    supports    = [result[1] for result in results]\n",
    "    return list(zip(lhs, rhs, supports))\n",
    "resultsinDataFrame = pd.DataFrame(inspect(results), columns = ['Product 1', 'Product 2', 'Support'])"
   ]
  },
  {
   "cell_type": "markdown",
   "id": "ab2dbbfc",
   "metadata": {},
   "source": [
    "### Displaying The Results Non-Sorted"
   ]
  },
  {
   "cell_type": "code",
   "execution_count": 14,
   "id": "b5f40167",
   "metadata": {},
   "outputs": [
    {
     "data": {
      "text/html": [
       "<div>\n",
       "<style scoped>\n",
       "    .dataframe tbody tr th:only-of-type {\n",
       "        vertical-align: middle;\n",
       "    }\n",
       "\n",
       "    .dataframe tbody tr th {\n",
       "        vertical-align: top;\n",
       "    }\n",
       "\n",
       "    .dataframe thead th {\n",
       "        text-align: right;\n",
       "    }\n",
       "</style>\n",
       "<table border=\"1\" class=\"dataframe\">\n",
       "  <thead>\n",
       "    <tr style=\"text-align: right;\">\n",
       "      <th></th>\n",
       "      <th>Product 1</th>\n",
       "      <th>Product 2</th>\n",
       "      <th>Support</th>\n",
       "    </tr>\n",
       "  </thead>\n",
       "  <tbody>\n",
       "    <tr>\n",
       "      <th>0</th>\n",
       "      <td>light cream</td>\n",
       "      <td>chicken</td>\n",
       "      <td>0.004533</td>\n",
       "    </tr>\n",
       "    <tr>\n",
       "      <th>1</th>\n",
       "      <td>mushroom cream sauce</td>\n",
       "      <td>escalope</td>\n",
       "      <td>0.005733</td>\n",
       "    </tr>\n",
       "    <tr>\n",
       "      <th>2</th>\n",
       "      <td>pasta</td>\n",
       "      <td>escalope</td>\n",
       "      <td>0.005866</td>\n",
       "    </tr>\n",
       "    <tr>\n",
       "      <th>3</th>\n",
       "      <td>fromage blanc</td>\n",
       "      <td>honey</td>\n",
       "      <td>0.003333</td>\n",
       "    </tr>\n",
       "    <tr>\n",
       "      <th>4</th>\n",
       "      <td>herb &amp; pepper</td>\n",
       "      <td>ground beef</td>\n",
       "      <td>0.015998</td>\n",
       "    </tr>\n",
       "    <tr>\n",
       "      <th>...</th>\n",
       "      <td>...</td>\n",
       "      <td>...</td>\n",
       "      <td>...</td>\n",
       "    </tr>\n",
       "    <tr>\n",
       "      <th>155</th>\n",
       "      <td>olive oil</td>\n",
       "      <td>spaghetti</td>\n",
       "      <td>0.003066</td>\n",
       "    </tr>\n",
       "    <tr>\n",
       "      <th>156</th>\n",
       "      <td>pancakes</td>\n",
       "      <td>spaghetti</td>\n",
       "      <td>0.003066</td>\n",
       "    </tr>\n",
       "    <tr>\n",
       "      <th>157</th>\n",
       "      <td>ground beef</td>\n",
       "      <td>spaghetti</td>\n",
       "      <td>0.003066</td>\n",
       "    </tr>\n",
       "    <tr>\n",
       "      <th>158</th>\n",
       "      <td>milk</td>\n",
       "      <td>olive oil</td>\n",
       "      <td>0.003333</td>\n",
       "    </tr>\n",
       "    <tr>\n",
       "      <th>159</th>\n",
       "      <td>milk</td>\n",
       "      <td>spaghetti</td>\n",
       "      <td>0.003333</td>\n",
       "    </tr>\n",
       "  </tbody>\n",
       "</table>\n",
       "<p>160 rows × 3 columns</p>\n",
       "</div>"
      ],
      "text/plain": [
       "                Product 1    Product 2   Support\n",
       "0             light cream      chicken  0.004533\n",
       "1    mushroom cream sauce     escalope  0.005733\n",
       "2                   pasta     escalope  0.005866\n",
       "3           fromage blanc        honey  0.003333\n",
       "4           herb & pepper  ground beef  0.015998\n",
       "..                    ...          ...       ...\n",
       "155             olive oil    spaghetti  0.003066\n",
       "156              pancakes    spaghetti  0.003066\n",
       "157           ground beef    spaghetti  0.003066\n",
       "158                  milk    olive oil  0.003333\n",
       "159                  milk    spaghetti  0.003333\n",
       "\n",
       "[160 rows x 3 columns]"
      ]
     },
     "execution_count": 14,
     "metadata": {},
     "output_type": "execute_result"
    }
   ],
   "source": [
    "resultsinDataFrame"
   ]
  },
  {
   "cell_type": "markdown",
   "id": "5cf84347",
   "metadata": {},
   "source": [
    "### Displaying the result in descending order of lift"
   ]
  },
  {
   "cell_type": "code",
   "execution_count": 15,
   "id": "f979c254",
   "metadata": {},
   "outputs": [
    {
     "data": {
      "text/html": [
       "<div>\n",
       "<style scoped>\n",
       "    .dataframe tbody tr th:only-of-type {\n",
       "        vertical-align: middle;\n",
       "    }\n",
       "\n",
       "    .dataframe tbody tr th {\n",
       "        vertical-align: top;\n",
       "    }\n",
       "\n",
       "    .dataframe thead th {\n",
       "        text-align: right;\n",
       "    }\n",
       "</style>\n",
       "<table border=\"1\" class=\"dataframe\">\n",
       "  <thead>\n",
       "    <tr style=\"text-align: right;\">\n",
       "      <th></th>\n",
       "      <th>Product 1</th>\n",
       "      <th>Product 2</th>\n",
       "      <th>Support</th>\n",
       "    </tr>\n",
       "  </thead>\n",
       "  <tbody>\n",
       "    <tr>\n",
       "      <th>4</th>\n",
       "      <td>herb &amp; pepper</td>\n",
       "      <td>ground beef</td>\n",
       "      <td>0.015998</td>\n",
       "    </tr>\n",
       "    <tr>\n",
       "      <th>43</th>\n",
       "      <td>herb &amp; pepper</td>\n",
       "      <td>ground beef</td>\n",
       "      <td>0.015998</td>\n",
       "    </tr>\n",
       "    <tr>\n",
       "      <th>30</th>\n",
       "      <td>spaghetti</td>\n",
       "      <td>ground beef</td>\n",
       "      <td>0.008666</td>\n",
       "    </tr>\n",
       "    <tr>\n",
       "      <th>95</th>\n",
       "      <td>spaghetti</td>\n",
       "      <td>ground beef</td>\n",
       "      <td>0.008666</td>\n",
       "    </tr>\n",
       "    <tr>\n",
       "      <th>7</th>\n",
       "      <td>whole wheat pasta</td>\n",
       "      <td>olive oil</td>\n",
       "      <td>0.007999</td>\n",
       "    </tr>\n",
       "    <tr>\n",
       "      <th>60</th>\n",
       "      <td>whole wheat pasta</td>\n",
       "      <td>olive oil</td>\n",
       "      <td>0.007999</td>\n",
       "    </tr>\n",
       "    <tr>\n",
       "      <th>34</th>\n",
       "      <td>mineral water</td>\n",
       "      <td>frozen vegetables</td>\n",
       "      <td>0.007199</td>\n",
       "    </tr>\n",
       "    <tr>\n",
       "      <th>55</th>\n",
       "      <td>milk</td>\n",
       "      <td>olive oil</td>\n",
       "      <td>0.007199</td>\n",
       "    </tr>\n",
       "    <tr>\n",
       "      <th>102</th>\n",
       "      <td>mineral water</td>\n",
       "      <td>frozen vegetables</td>\n",
       "      <td>0.007199</td>\n",
       "    </tr>\n",
       "    <tr>\n",
       "      <th>128</th>\n",
       "      <td>milk</td>\n",
       "      <td>olive oil</td>\n",
       "      <td>0.007199</td>\n",
       "    </tr>\n",
       "  </tbody>\n",
       "</table>\n",
       "</div>"
      ],
      "text/plain": [
       "             Product 1          Product 2   Support\n",
       "4        herb & pepper        ground beef  0.015998\n",
       "43       herb & pepper        ground beef  0.015998\n",
       "30           spaghetti        ground beef  0.008666\n",
       "95           spaghetti        ground beef  0.008666\n",
       "7    whole wheat pasta          olive oil  0.007999\n",
       "60   whole wheat pasta          olive oil  0.007999\n",
       "34       mineral water  frozen vegetables  0.007199\n",
       "55                milk          olive oil  0.007199\n",
       "102      mineral water  frozen vegetables  0.007199\n",
       "128               milk          olive oil  0.007199"
      ]
     },
     "execution_count": 15,
     "metadata": {},
     "output_type": "execute_result"
    }
   ],
   "source": [
    "resultsinDataFrame.nlargest(n = 10, columns = 'Support')"
   ]
  }
 ],
 "metadata": {
  "kernelspec": {
   "display_name": "Python 3",
   "language": "python",
   "name": "python3"
  },
  "language_info": {
   "codemirror_mode": {
    "name": "ipython",
    "version": 3
   },
   "file_extension": ".py",
   "mimetype": "text/x-python",
   "name": "python",
   "nbconvert_exporter": "python",
   "pygments_lexer": "ipython3",
   "version": "3.8.8"
  }
 },
 "nbformat": 4,
 "nbformat_minor": 5
}
